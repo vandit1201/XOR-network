{
 "cells": [
  {
   "cell_type": "code",
   "execution_count": 1,
   "metadata": {},
   "outputs": [],
   "source": [
    "import numpy as np"
   ]
  },
  {
   "cell_type": "code",
   "execution_count": 2,
   "metadata": {},
   "outputs": [],
   "source": [
    "X=np.array([[0,0],[0,1],[1,0],[1,1]])\n",
    "Y=np.array([[0],[1],[1],[0]])"
   ]
  },
  {
   "cell_type": "code",
   "execution_count": 3,
   "metadata": {},
   "outputs": [],
   "source": [
    "hiddenlayerneuron,inputlayerneuron,outputlayerneuron=2,2,1"
   ]
  },
  {
   "cell_type": "code",
   "execution_count": 23,
   "metadata": {},
   "outputs": [],
   "source": [
    "lr=0.1\n",
    "epoch=100000"
   ]
  },
  {
   "cell_type": "code",
   "execution_count": 5,
   "metadata": {},
   "outputs": [],
   "source": [
    "def sigmoid (x):\n",
    "    return 1/(1 + np.exp(-x))\n",
    "\n",
    "def sigmoid_derivative(x):\n",
    "    return x * (1 - x)"
   ]
  },
  {
   "cell_type": "code",
   "execution_count": 6,
   "metadata": {},
   "outputs": [],
   "source": [
    "hidden_layer_weight=np.random.uniform(size=(inputlayerneuron,hiddenlayerneuron))\n",
    "hidden_bias=np.random.uniform(size=(1,hiddenlayerneuron))\n",
    "output_layer_weight=np.random.uniform(size=(hiddenlayerneuron,outputlayerneuron))\n",
    "output_bias=np.random.uniform(size=(1,outputlayerneuron))"
   ]
  },
  {
   "cell_type": "code",
   "execution_count": 24,
   "metadata": {},
   "outputs": [],
   "source": [
    "for i in range(epoch):\n",
    "    \n",
    "    hidden_layer_activation=np.matmul(X,hidden_layer_weight.T)\n",
    "    hidden_layer_activation+=hidden_bias\n",
    "    hidden_layer_output=sigmoid(hidden_layer_activation)\n",
    "    \n",
    "    output_layer_activation=np.matmul(hidden_layer_output,output_layer_weight)\n",
    "    output_layer_activation+=output_bias\n",
    "    output_layer_output=sigmoid(output_layer_activation)\n",
    "    \n",
    "    \n",
    "    \n",
    "    #backpropogation\n",
    "    \n",
    "    error = Y - output_layer_output\n",
    "    d_predicted_output = error * sigmoid_derivative(output_layer_output)\n",
    "    \n",
    "    error_hidden_layer = d_predicted_output.dot(output_layer_weight.T)\n",
    "    d_hidden_layer = error_hidden_layer * sigmoid_derivative(hidden_layer_output)\n",
    "    \n",
    "    #update weight\n",
    "    \n",
    "    output_layer_weight += hidden_layer_output.T.dot(d_predicted_output) * lr\n",
    "    output_bias +=np.sum(d_predicted_output,axis=0,keepdims=True) * lr\n",
    "    \n",
    "    hidden_layer_weight += X.T.dot(d_hidden_layer)*lr\n",
    "    hidden_bias += np.sum(d_hidden_layer,axis=0,keepdims=True) * lr\n",
    "    \n"
   ]
  },
  {
   "cell_type": "code",
   "execution_count": 25,
   "metadata": {},
   "outputs": [
    {
     "name": "stdout",
     "output_type": "stream",
     "text": [
      "Final hidden weights: [ 8.94636726 57.39154398] [2.0090865  3.14029888]\n",
      "Final hidden bias: [-3.61214748 -4.35532068]\n",
      "Final output weights: [10.89930825] [-14.78096954]\n",
      "Final output bias: [-4.17092053]\n"
     ]
    }
   ],
   "source": [
    "print(\"Final hidden weights: \",end='')\n",
    "print(*hidden_layer_weight)\n",
    "print(\"Final hidden bias: \",end='')\n",
    "print(*hidden_bias)\n",
    "print(\"Final output weights: \",end='')\n",
    "print(*output_layer_weight)\n",
    "print(\"Final output bias: \",end='')\n",
    "print(*output_bias)\n",
    "\n"
   ]
  },
  {
   "cell_type": "code",
   "execution_count": 26,
   "metadata": {},
   "outputs": [
    {
     "name": "stdout",
     "output_type": "stream",
     "text": [
      "\n",
      "Output from neural network after 10,000 epochs: [0.01676113] [0.96598316] [0.99543475] [0.03072987]\n"
     ]
    }
   ],
   "source": [
    "print(\"\\nOutput from neural network after 10,000 epochs: \",end='')\n",
    "print(*output_layer_output)"
   ]
  },
  {
   "cell_type": "code",
   "execution_count": null,
   "metadata": {},
   "outputs": [],
   "source": []
  }
 ],
 "metadata": {
  "kernelspec": {
   "display_name": "Python 3",
   "language": "python",
   "name": "python3"
  },
  "language_info": {
   "codemirror_mode": {
    "name": "ipython",
    "version": 3
   },
   "file_extension": ".py",
   "mimetype": "text/x-python",
   "name": "python",
   "nbconvert_exporter": "python",
   "pygments_lexer": "ipython3",
   "version": "3.7.1"
  }
 },
 "nbformat": 4,
 "nbformat_minor": 2
}
